{
 "cells": [
  {
   "cell_type": "markdown",
   "metadata": {},
   "source": [
    "## 1. Introduction to OOP in R\n",
    "**Difference between functional programming and OOP?**\n",
    "\n",
    "+ Functional Programming: functions first, then object\n",
    "+ OOP: data structures first, then functions (*methods*)"
   ]
  },
  {
   "cell_type": "markdown",
   "metadata": {},
   "source": [
    "### 1.1. When to use OOP?\n",
    "\n",
    "When building tools *for* data analysis, use object-oreinted programming; otherwise, use functional programming for analyzing data."
   ]
  },
  {
   "cell_type": "markdown",
   "metadata": {},
   "source": [
    "### 1.2. A taste of function vs. objects"
   ]
  },
  {
   "cell_type": "code",
   "execution_count": 5,
   "metadata": {
    "collapsed": false
   },
   "outputs": [
    {
     "data": {
      "text/plain": [
       "   Min. 1st Qu.  Median    Mean 3rd Qu.    Max. \n",
       " 0.1031  0.4518  0.8609  1.4180  1.5990  7.5560 "
      ]
     },
     "metadata": {},
     "output_type": "display_data"
    },
    {
     "data": {
      "text/html": [
       "<dl class=dl-horizontal>\n",
       "\t<dt>A</dt>\n",
       "\t\t<dd>9</dd>\n",
       "\t<dt>B</dt>\n",
       "\t\t<dd>10</dd>\n",
       "\t<dt>C</dt>\n",
       "\t\t<dd>8</dd>\n",
       "\t<dt>D</dt>\n",
       "\t\t<dd>7</dd>\n",
       "\t<dt>E</dt>\n",
       "\t\t<dd>8</dd>\n",
       "\t<dt>NA's</dt>\n",
       "\t\t<dd>8</dd>\n",
       "</dl>\n"
      ],
      "text/latex": [
       "\\begin{description*}\n",
       "\\item[A] 9\n",
       "\\item[B] 10\n",
       "\\item[C] 8\n",
       "\\item[D] 7\n",
       "\\item[E] 8\n",
       "\\item[NA's] 8\n",
       "\\end{description*}\n"
      ],
      "text/markdown": [
       "A\n",
       ":   9B\n",
       ":   10C\n",
       ":   8D\n",
       ":   7E\n",
       ":   8NA's\n",
       ":   8\n",
       "\n"
      ],
      "text/plain": [
       "   A    B    C    D    E NA's \n",
       "   9   10    8    7    8    8 "
      ]
     },
     "metadata": {},
     "output_type": "display_data"
    },
    {
     "data": {
      "text/plain": [
       "       n             f     \n",
       " Min.   :0.1031   A   : 9  \n",
       " 1st Qu.:0.4518   B   :10  \n",
       " Median :0.8609   C   : 8  \n",
       " Mean   :1.4176   D   : 7  \n",
       " 3rd Qu.:1.5988   E   : 8  \n",
       " Max.   :7.5557   NA's: 8  "
      ]
     },
     "metadata": {},
     "output_type": "display_data"
    },
    {
     "data": {
      "text/plain": [
       "\n",
       "Call:\n",
       "lm(formula = dist ~ speed, data = cars)\n",
       "\n",
       "Residuals:\n",
       "    Min      1Q  Median      3Q     Max \n",
       "-29.069  -9.525  -2.272   9.215  43.201 \n",
       "\n",
       "Coefficients:\n",
       "            Estimate Std. Error t value Pr(>|t|)    \n",
       "(Intercept) -17.5791     6.7584  -2.601   0.0123 *  \n",
       "speed         3.9324     0.4155   9.464 1.49e-12 ***\n",
       "---\n",
       "Signif. codes:  0 ‘***’ 0.001 ‘**’ 0.01 ‘*’ 0.05 ‘.’ 0.1 ‘ ’ 1\n",
       "\n",
       "Residual standard error: 15.38 on 48 degrees of freedom\n",
       "Multiple R-squared:  0.6511,\tAdjusted R-squared:  0.6438 \n",
       "F-statistic: 89.57 on 1 and 48 DF,  p-value: 1.49e-12\n"
      ]
     },
     "metadata": {},
     "output_type": "display_data"
    }
   ],
   "source": [
    "# Create these variables\n",
    "a_numeric_vector <- rlnorm(50)\n",
    "a_factor <- factor(\n",
    "  sample(c(LETTERS[1:5], NA), 50, replace = TRUE)\n",
    ")\n",
    "a_data_frame <- data.frame(\n",
    "  n = a_numeric_vector,\n",
    "  f = a_factor\n",
    ")\n",
    "a_linear_model <- lm(dist ~ speed, cars)\n",
    "\n",
    "# Call summary() on the numeric vector\n",
    "summary(a_numeric_vector)\n",
    "\n",
    "# Do the same for the other three objects\n",
    "summary(a_factor)\n",
    "summary(a_data_frame)\n",
    "summary(a_linear_model)"
   ]
  },
  {
   "cell_type": "markdown",
   "metadata": {},
   "source": [
    "The same function *summary()* behaves differently on different types of objects, due to the underlying defined behaviors of these classes."
   ]
  },
  {
   "cell_type": "markdown",
   "metadata": {},
   "source": [
    "### 1.3. The Nine Systems\n",
    "\n",
    "+ S3: (Most recommended) Precurse of R, mature and widely used\n",
    "    + Makes functions behave differently on different classes\n",
    "+ S4: Also prior to R\n",
    "    + Hard to use, not recommended\n",
    "    + Unless you use *Bioconductor*\n",
    "+ ReferenceClasses: Has similar behaviors of other programming languages, not recommended\n",
    "+ R6: More powerful than S3 (recommended)"
   ]
  },
  {
   "cell_type": "markdown",
   "metadata": {},
   "source": [
    "### 1.4. How does R distinguish variables?"
   ]
  },
  {
   "cell_type": "markdown",
   "metadata": {},
   "source": [
    "When using **str()** or **class()**, R returns the class of the variables.\n",
    "\n",
    "When one need more information of the basic element type of the class (for instance, what's in a *matrix*), we use **typeof()** to determine the type of each element.\n",
    "\n",
    "Use **mode()** and **storage.mode()** are used in older codes, but not useful anymore."
   ]
  },
  {
   "cell_type": "markdown",
   "metadata": {},
   "source": [
    "### 1.5. Assigning Classes and Implicit Classes\n",
    "\n",
    "Use **class()** to also **assign** a class to a variable. In other words, the \"class\" of an object can be overwritten.\n",
    "\n",
    "However, the underlying features of an existing class in R will continue to work, such as *length()*, *mean()*, *typeof()*.\n",
    "\n",
    "> This is particularly useful for lists, since lists can be used to combine other variables into more complex variables. (Remember the Lego analogy: individual variables are like Lego pieces, and you can use lists to build whatever you like.)\n"
   ]
  },
  {
   "cell_type": "markdown",
   "metadata": {},
   "source": [
    "## 2. S3 How-to\n",
    "\n",
    "### 2.1. Function Overloading\n",
    "Having different behaviors for different classes for the same function. This is enabled by **S3** package.\n",
    "\n",
    "For the S3 package:\n",
    "\n",
    "+ Functions are devided into two parts:\n",
    "+ Generic function\n",
    "    + print() and summary() are both generic fuctions\n",
    "+ method function for each class\n",
    "    + Use generic.class() to call the method for the class\n",
    "    + The arguments for the generic functions should also be included in the method functions\n",
    "\n",
    "**Do not use dots in variable naming convention, which will confuse the S3 classes**"
   ]
  },
  {
   "cell_type": "code",
   "execution_count": 6,
   "metadata": {
    "collapsed": false
   },
   "outputs": [
    {
     "name": "stdout",
     "output_type": "stream",
     "text": [
      "[1] TRUE\n",
      "[1] TRUE\n",
      "[1] TRUE\n"
     ]
    }
   ],
   "source": [
    "# To check if a function is a S3 method:\n",
    "library(pryr)\n",
    "print(is_s3_generic(\"t\"))\n",
    "print(is_s3_method(\"t.data.frame\"))\n",
    "print(is_s3_method(\"t.data.frame\"))"
   ]
  },
  {
   "cell_type": "markdown",
   "metadata": {},
   "source": [
    "### 2.2. Step 1 to create a S3 function: create a generic function using *UseMethod( )*\n",
    "\n",
    "You can create your own S3 functions. The first step is to **write the generic**. This is typically a **single line function that calls UseMethod(), passing its name as a string.**\n",
    "\n",
    "The first argument to an S3 generic is usually called *x*, though this isn't compulsory. It is also good practice to include a *... (\"ellipsis\", or \"dot-dot-dot\") argument, in case arguments need to be passed from one method to another*.\n",
    "\n",
    "Overall, the structure of an S3 generic looks like this.\n",
    "```\n",
    "an_s3_generic <- function(x, maybe = \"some\", other = \"arguments\", ...) {\n",
    "  UseMethod(\"an_s3_generic\")\n",
    "}\n",
    "```"
   ]
  },
  {
   "cell_type": "code",
   "execution_count": 7,
   "metadata": {
    "collapsed": true
   },
   "outputs": [],
   "source": [
    "# Create get_n_elements\n",
    "get_n_elements <- function(x, ...){\n",
    "  UseMethod(\"get_n_elements\")\n",
    "}"
   ]
  },
  {
   "cell_type": "markdown",
   "metadata": {},
   "source": [
    "### 2.3. Step 2 to create a S3 function: create methods\n",
    "\n",
    "The generic function doesn't do anything; it is simply a bucket that contains multiple method, each dealing with different class object.\n",
    "\n",
    "The **methods** are actually regular functions with two conditions:\n",
    "\n",
    "+ The name of the method must be of the form *generic.class*.\n",
    "+ The method signature - that is, the arguments that are passed in to the method - must *contain the signature of the generic*.\n",
    "\n",
    "The syntax should look like:\n",
    "```\n",
    "generic.class <- function(some, arguments, ...) {\n",
    "  #Do something\n",
    "}\n",
    "```"
   ]
  },
  {
   "cell_type": "code",
   "execution_count": 8,
   "metadata": {
    "collapsed": false
   },
   "outputs": [
    {
     "name": "stdout",
     "output_type": "stream",
     "text": [
      "function(x, ...){\n",
      "  UseMethod(\"get_n_elements\")\n",
      "}\n",
      "[1] 100\n"
     ]
    }
   ],
   "source": [
    "# View get_n_elements\n",
    "print(get_n_elements)\n",
    "\n",
    "# Create a data.frame method for get_n_elements\n",
    "get_n_elements.data.frame <- function(x, ...){\n",
    "  nrow(x)*ncol(x)\n",
    "}\n",
    "\n",
    "\n",
    "# Call the method on the sleep dataset\n",
    "n_elements_cars <- get_n_elements.data.frame(cars)\n",
    "\n",
    "# View the result\n",
    "print(n_elements_cars)"
   ]
  },
  {
   "cell_type": "markdown",
   "metadata": {},
   "source": [
    "### 2.4. Step 3 to create a S3 function: create default method\n",
    "\n",
    "Create a default method to deal with classes without a specific method. It is similar to creating a S3 method function with the condition that the name of the default method should always be **generic.default**."
   ]
  },
  {
   "cell_type": "code",
   "execution_count": 9,
   "metadata": {
    "collapsed": false
   },
   "outputs": [
    {
     "data": {
      "text/plain": [
       "a_data_frame : 'data.frame':\t50 obs. of  2 variables:\n",
       " $ n: num  0.536 0.303 1.774 1.12 4.316 ...\n",
       " $ f: Factor w/ 5 levels \"A\",\"B\",\"C\",\"D\",..: 1 3 5 4 3 1 4 2 3 NA ...\n",
       "a_factor :  Factor w/ 5 levels \"A\",\"B\",\"C\",\"D\",..: 1 3 5 4 3 1 4 2 3 NA ...\n",
       "a_linear_model : List of 12\n",
       " $ coefficients : Named num [1:2] -17.58 3.93\n",
       " $ residuals    : Named num [1:50] 3.85 11.85 -5.95 12.05 2.12 ...\n",
       " $ effects      : Named num [1:50] -303.914 145.552 -8.115 9.885 0.194 ...\n",
       " $ rank         : int 2\n",
       " $ fitted.values: Named num [1:50] -1.85 -1.85 9.95 9.95 13.88 ...\n",
       " $ assign       : int [1:2] 0 1\n",
       " $ qr           :List of 5\n",
       " $ df.residual  : int 48\n",
       " $ xlevels      : Named list()\n",
       " $ call         : language lm(formula = dist ~ speed, data = cars)\n",
       " $ terms        :Classes 'terms', 'formula'  language dist ~ speed\n",
       " $ model        :'data.frame':\t50 obs. of  2 variables:\n",
       "a_numeric_vector :  num [1:50] 0.536 0.303 1.774 1.12 4.316 ...\n",
       "env : <environment: 0x19799d0> \n",
       "env2 : <environment: 0x19799d0> \n",
       "get_n_elements : function (x, ...)  \n",
       "get_n_elements.data.frame : function (x, ...)  \n",
       "lst : List of 2\n",
       " $ perfect: num [1:3] 6 28 496\n",
       " $ bases  : chr [1:4] \"A\" \"C\" \"G\" \"U\"\n",
       "lst2 : List of 2\n",
       " $ perfect: num [1:3] 6 28 496\n",
       " $ bases  : chr [1:4] \"A\" \"C\" \"G\" \"T\"\n",
       "n_elements_cars :  int 100"
      ]
     },
     "metadata": {},
     "output_type": "display_data"
    },
    {
     "name": "stdout",
     "output_type": "stream",
     "text": [
      "[1] 20\n"
     ]
    }
   ],
   "source": [
    "# View pre-defined objects\n",
    "ls.str()\n",
    "\n",
    "# Create a default method for get_n_elements\n",
    "get_n_elements.default <- function(x, ...){\n",
    "  length(unlist(x))\n",
    "}\n",
    "\n",
    "# Call the method on an array\n",
    "print(get_n_elements.default(1:20))"
   ]
  },
  {
   "cell_type": "markdown",
   "metadata": {
    "collapsed": true
   },
   "source": [
    "### 2.5. Methodical Thinking\n",
    "\n",
    "To check the available methods of a function, call **methods('function_name')** or **methods(function_name)**.\n",
    "\n",
    "To check the available method of a function for a given class of object, call **methods(class = 'class_name')** or **methods(class = class_name)**.\n",
    "\n",
    "**methods( )** returns both *S3* and *S4* methods. To find only the *S3* methods, use **.S3methods( )**, and **.S4methods( )** for *S4* methods."
   ]
  },
  {
   "cell_type": "code",
   "execution_count": 10,
   "metadata": {
    "collapsed": false
   },
   "outputs": [
    {
     "name": "stdout",
     "output_type": "stream",
     "text": [
      "  [1] print.acf*                                        \n",
      "  [2] print.AES*                                        \n",
      "  [3] print.anova*                                      \n",
      "  [4] print.aov*                                        \n",
      "  [5] print.aovlist*                                    \n",
      "  [6] print.ar*                                         \n",
      "  [7] print.Arima*                                      \n",
      "  [8] print.arima0*                                     \n",
      "  [9] print.AsIs                                        \n",
      " [10] print.aspell*                                     \n",
      " [11] print.aspell_inspect_context*                     \n",
      " [12] print.bibentry*                                   \n",
      " [13] print.Bibtex*                                     \n",
      " [14] print.browseVignettes*                            \n",
      " [15] print.by                                          \n",
      " [16] print.bytes*                                      \n",
      " [17] print.changedFiles*                               \n",
      " [18] print.check_code_usage_in_package*                \n",
      " [19] print.check_compiled_code*                        \n",
      " [20] print.check_demo_index*                           \n",
      " [21] print.check_depdef*                               \n",
      " [22] print.check_details*                              \n",
      " [23] print.check_doi_db*                               \n",
      " [24] print.check_dotInternal*                          \n",
      " [25] print.check_make_vars*                            \n",
      " [26] print.check_nonAPI_calls*                         \n",
      " [27] print.check_package_code_assign_to_globalenv*     \n",
      " [28] print.check_package_code_attach*                  \n",
      " [29] print.check_package_code_data_into_globalenv*     \n",
      " [30] print.check_package_code_startup_functions*       \n",
      " [31] print.check_package_code_syntax*                  \n",
      " [32] print.check_package_code_unload_functions*        \n",
      " [33] print.check_package_compact_datasets*             \n",
      " [34] print.check_package_CRAN_incoming*                \n",
      " [35] print.check_package_datasets*                     \n",
      " [36] print.check_package_depends*                      \n",
      " [37] print.check_package_description*                  \n",
      " [38] print.check_package_description_encoding*         \n",
      " [39] print.check_package_license*                      \n",
      " [40] print.check_packages_in_dir*                      \n",
      " [41] print.check_packages_in_dir_changes*              \n",
      " [42] print.check_packages_used*                        \n",
      " [43] print.check_po_files*                             \n",
      " [44] print.check_Rd_contents*                          \n",
      " [45] print.check_Rd_line_widths*                       \n",
      " [46] print.check_Rd_metadata*                          \n",
      " [47] print.check_Rd_xrefs*                             \n",
      " [48] print.check_so_symbols*                           \n",
      " [49] print.check_T_and_F*                              \n",
      " [50] print.check_url_db*                               \n",
      " [51] print.check_vignette_index*                       \n",
      " [52] print.checkDocFiles*                              \n",
      " [53] print.checkDocStyle*                              \n",
      " [54] print.checkFF*                                    \n",
      " [55] print.checkRd*                                    \n",
      " [56] print.checkReplaceFuns*                           \n",
      " [57] print.checkS3methods*                             \n",
      " [58] print.checkTnF*                                   \n",
      " [59] print.checkVignettes*                             \n",
      " [60] print.citation*                                   \n",
      " [61] print.codoc*                                      \n",
      " [62] print.codocClasses*                               \n",
      " [63] print.codocData*                                  \n",
      " [64] print.colorConverter*                             \n",
      " [65] print.compactPDF*                                 \n",
      " [66] print.condition                                   \n",
      " [67] print.connection                                  \n",
      " [68] print.CRAN_package_reverse_dependencies_and_views*\n",
      " [69] print.crayon*                                     \n",
      " [70] print.data.frame                                  \n",
      " [71] print.Date                                        \n",
      " [72] print.default                                     \n",
      " [73] print.dendrogram*                                 \n",
      " [74] print.density*                                    \n",
      " [75] print.difftime                                    \n",
      " [76] print.dist*                                       \n",
      " [77] print.Dlist                                       \n",
      " [78] print.DLLInfo                                     \n",
      " [79] print.DLLInfoList                                 \n",
      " [80] print.DLLRegisteredRoutines                       \n",
      " [81] print.dummy_coef*                                 \n",
      " [82] print.dummy_coef_list*                            \n",
      " [83] print.ecdf*                                       \n",
      " [84] print.envlist*                                    \n",
      " [85] print.factanal*                                   \n",
      " [86] print.factor                                      \n",
      " [87] print.family*                                     \n",
      " [88] print.fileSnapshot*                               \n",
      " [89] print.findLineNumResult*                          \n",
      " [90] print.formula*                                    \n",
      " [91] print.fseq*                                       \n",
      " [92] print.ftable*                                     \n",
      " [93] print.function                                    \n",
      " [94] print.getAnywhere*                                \n",
      " [95] print.glm*                                        \n",
      " [96] print.hclust*                                     \n",
      " [97] print.help_files_with_topic*                      \n",
      " [98] print.hexmode                                     \n",
      " [99] print.HoltWinters*                                \n",
      "[100] print.hsearch*                                    \n",
      "[101] print.hsearch_db*                                 \n",
      "[102] print.htest*                                      \n",
      "[103] print.infl*                                       \n",
      "[104] print.inspect*                                    \n",
      "[105] print.inspect_NILSXP*                             \n",
      "[106] print.integrate*                                  \n",
      "[107] print.isoreg*                                     \n",
      "[108] print.json*                                       \n",
      "[109] print.kmeans*                                     \n",
      "[110] print.Latex*                                      \n",
      "[111] print.LaTeX*                                      \n",
      "[112] print.libraryIQR                                  \n",
      "[113] print.listof                                      \n",
      "[114] print.lm*                                         \n",
      "[115] print.loadings*                                   \n",
      "[116] print.loess*                                      \n",
      "[117] print.logLik*                                     \n",
      "[118] print.ls_str*                                     \n",
      "[119] print.medpolish*                                  \n",
      "[120] print.MethodsFunction*                            \n",
      "[121] print.mtable*                                     \n",
      "[122] print.NativeRoutineList                           \n",
      "[123] print.news_db*                                    \n",
      "[124] print.nls*                                        \n",
      "[125] print.noquote                                     \n",
      "[126] print.numeric_version                             \n",
      "[127] print.object_size*                                \n",
      "[128] print.octmode                                     \n",
      "[129] print.packageDescription*                         \n",
      "[130] print.packageInfo                                 \n",
      "[131] print.packageIQR*                                 \n",
      "[132] print.packageStatus*                              \n",
      "[133] print.pairwise.htest*                             \n",
      "[134] print.PDF_Array*                                  \n",
      "[135] print.PDF_Dictionary*                             \n",
      "[136] print.pdf_doc*                                    \n",
      "[137] print.pdf_fonts*                                  \n",
      "[138] print.PDF_Indirect_Reference*                     \n",
      "[139] print.pdf_info*                                   \n",
      "[140] print.PDF_Keyword*                                \n",
      "[141] print.PDF_Name*                                   \n",
      "[142] print.PDF_Stream*                                 \n",
      "[143] print.PDF_String*                                 \n",
      "[144] print.person*                                     \n",
      "[145] print.POSIXct                                     \n",
      "[146] print.POSIXlt                                     \n",
      "[147] print.power.htest*                                \n",
      "[148] print.ppr*                                        \n",
      "[149] print.prcomp*                                     \n",
      "[150] print.princomp*                                   \n",
      "[151] print.proc_time                                   \n",
      "[152] print.R6*                                         \n",
      "[153] print.R6ClassGenerator*                           \n",
      "[154] print.raster*                                     \n",
      "[155] print.Rcpp_stack_trace*                           \n",
      "[156] print.Rd*                                         \n",
      "[157] print.recordedplot*                               \n",
      "[158] print.restart                                     \n",
      "[159] print.RGBcolorConverter*                          \n",
      "[160] print.rle                                         \n",
      "[161] print.roman*                                      \n",
      "[162] print.scalar*                                     \n",
      "[163] print.sessionInfo*                                \n",
      "[164] print.simple.list                                 \n",
      "[165] print.smooth.spline*                              \n",
      "[166] print.socket*                                     \n",
      "[167] print.srcfile                                     \n",
      "[168] print.srcref                                      \n",
      "[169] print.stepfun*                                    \n",
      "[170] print.stl*                                        \n",
      "[171] print.StructTS*                                   \n",
      "[172] print.subdir_tests*                               \n",
      "[173] print.summarize_CRAN_check_status*                \n",
      "[174] print.summary.aov*                                \n",
      "[175] print.summary.aovlist*                            \n",
      "[176] print.summary.ecdf*                               \n",
      "[177] print.summary.glm*                                \n",
      "[178] print.summary.lm*                                 \n",
      "[179] print.summary.loess*                              \n",
      "[180] print.summary.manova*                             \n",
      "[181] print.summary.nls*                                \n",
      "[182] print.summary.packageStatus*                      \n",
      "[183] print.summary.ppr*                                \n",
      "[184] print.summary.prcomp*                             \n",
      "[185] print.summary.princomp*                           \n",
      "[186] print.summary.table                               \n",
      "[187] print.summaryDefault                              \n",
      "[188] print.table                                       \n",
      "[189] print.tables_aov*                                 \n",
      "[190] print.terms*                                      \n",
      "[191] print.ts*                                         \n",
      "[192] print.tskernel*                                   \n",
      "[193] print.TukeyHSD*                                   \n",
      "[194] print.tukeyline*                                  \n",
      "[195] print.tukeysmooth*                                \n",
      "[196] print.undoc*                                      \n",
      "[197] print.vignette                                    \n",
      "[198] print.warnings                                    \n",
      "[199] print.xgettext*                                   \n",
      "[200] print.xngettext*                                  \n",
      "[201] print.xtabs*                                      \n",
      "see '?methods' for accessing help and source code\n"
     ]
    }
   ],
   "source": [
    "print(methods('print'))"
   ]
  },
  {
   "cell_type": "markdown",
   "metadata": {},
   "source": [
    "### 2.6. S3 and Primitive Functions\n",
    "\n",
    "Functions that needs faster performance are usually written in C codes. However, C codes takes longer to write and harder to debug.\n",
    "\n",
    "Functions written in **C** codes are called **Primitive Functions**. Check primitive generics using **.S3PrimitiveGenerics** to show all the primitive S3 functions.\n",
    "\n",
    "The primitive generic functions behave differently than the normal generic functions, in that:\n",
    "\n",
    "+ Primitive functions will remain functional on a new class if the underlying C codes can find applicable codes to analyze the new class"
   ]
  },
  {
   "cell_type": "code",
   "execution_count": 11,
   "metadata": {
    "collapsed": false
   },
   "outputs": [
    {
     "name": "stdout",
     "output_type": "stream",
     "text": [
      "List of 2\n",
      " $ color : chr [1:5] \"black\" \"brown\" \"blonde\" \"ginger\" ...\n",
      " $ styles: chr [1:5] \"afro\" \"beehive\" \"crew cut\" \"mohawk\" ...\n",
      " - attr(*, \"class\")= chr \"hairstylist\"\n",
      " [1] \"anyNA\"          \"as.character\"   \"as.complex\"     \"as.double\"     \n",
      " [5] \"as.environment\" \"as.integer\"     \"as.logical\"     \"as.numeric\"    \n",
      " [9] \"as.raw\"         \"c\"              \"dim\"            \"dim<-\"         \n",
      "[13] \"dimnames\"       \"dimnames<-\"     \"is.array\"       \"is.finite\"     \n",
      "[17] \"is.infinite\"    \"is.matrix\"      \"is.na\"          \"is.nan\"        \n",
      "[21] \"is.numeric\"     \"length\"         \"length<-\"       \"levels<-\"      \n",
      "[25] \"names\"          \"names<-\"        \"rep\"            \"seq.int\"       \n",
      "[29] \"xtfrm\"         \n"
     ]
    },
    {
     "data": {
      "text/html": [
       "FALSE"
      ],
      "text/latex": [
       "FALSE"
      ],
      "text/markdown": [
       "FALSE"
      ],
      "text/plain": [
       "[1] FALSE"
      ]
     },
     "metadata": {},
     "output_type": "display_data"
    },
    {
     "data": {
      "text/html": [
       "2"
      ],
      "text/latex": [
       "2"
      ],
      "text/markdown": [
       "2"
      ],
      "text/plain": [
       "[1] 2"
      ]
     },
     "metadata": {},
     "output_type": "display_data"
    }
   ],
   "source": [
    "# Create data.frame hair\n",
    "hair <- list(color=c(\"black\",\"brown\",\"blonde\",\"ginger\",\"grey\"),\n",
    "                   styles=c(\"afro\",\"beehive\",\"crew cut\",\"mohawk\",\"mullet\"))\n",
    "class(hair) <- \"hairstylist\"\n",
    "# View the structure of hair\n",
    "str(hair)\n",
    "\n",
    "# What primitive generics are available?\n",
    "print(.S3PrimitiveGenerics)\n",
    "\n",
    "# Does length.hairstylist exist?\n",
    "exists('length.hairstylist')\n",
    "\n",
    "# What is the length of hair?\n",
    "length(hair)"
   ]
  },
  {
   "cell_type": "markdown",
   "metadata": {},
   "source": [
    "*length()* is a primitive function, which is why it will not throw an error even when there is no method for class *\"hairstylist\"*."
   ]
  },
  {
   "cell_type": "markdown",
   "metadata": {},
   "source": [
    "### 2.7. Assigning more than one class to an object\n",
    "\n",
    "Use a list and the *class()* function to assign more than one \"class\" to an object. The **more specific class** should always come before **more generic class**. It's good practice to keep the original class as the **final class**.\n",
    "\n",
    "When there's a specific function to check an object's class, use it. If the class is newly created, use **inherits(object_name, \"class_name\")** to check if an object is of certain class.\n",
    "\n",
    "**How to chain the methods if an object have more than one applicable class?**\n",
    "Use **NextMethod()** when defining the functions, so that the method will automatically go over all existing classes an object can have."
   ]
  },
  {
   "cell_type": "code",
   "execution_count": 12,
   "metadata": {
    "collapsed": false
   },
   "outputs": [
    {
     "data": {
      "text/html": [
       "TRUE"
      ],
      "text/latex": [
       "TRUE"
      ],
      "text/markdown": [
       "TRUE"
      ],
      "text/plain": [
       "[1] TRUE"
      ]
     },
     "metadata": {},
     "output_type": "display_data"
    },
    {
     "data": {
      "text/html": [
       "TRUE"
      ],
      "text/latex": [
       "TRUE"
      ],
      "text/markdown": [
       "TRUE"
      ],
      "text/plain": [
       "[1] TRUE"
      ]
     },
     "metadata": {},
     "output_type": "display_data"
    },
    {
     "data": {
      "text/html": [
       "TRUE"
      ],
      "text/latex": [
       "TRUE"
      ],
      "text/markdown": [
       "TRUE"
      ],
      "text/plain": [
       "[1] TRUE"
      ]
     },
     "metadata": {},
     "output_type": "display_data"
    },
    {
     "data": {
      "text/html": [
       "TRUE"
      ],
      "text/latex": [
       "TRUE"
      ],
      "text/markdown": [
       "TRUE"
      ],
      "text/plain": [
       "[1] TRUE"
      ]
     },
     "metadata": {},
     "output_type": "display_data"
    },
    {
     "data": {
      "text/html": [
       "FALSE"
      ],
      "text/latex": [
       "FALSE"
      ],
      "text/markdown": [
       "FALSE"
      ],
      "text/plain": [
       "[1] FALSE"
      ]
     },
     "metadata": {},
     "output_type": "display_data"
    }
   ],
   "source": [
    "kitty <- c(\"Miaow!\")\n",
    "\n",
    "class(kitty) <- c(\"cat\",\"mammal\",\"character\")\n",
    "\n",
    "inherits(kitty, \"cat\")\n",
    "inherits(kitty, \"mammal\")\n",
    "# For existing class, both inherits and is.class()\n",
    "# functions work.\n",
    "inherits(kitty, \"character\")\n",
    "is.character(kitty)\n",
    "\n",
    "inherits(kitty, \"dog\")"
   ]
  },
  {
   "cell_type": "markdown",
   "metadata": {
    "collapsed": true
   },
   "source": [
    "When objects have *multiple* classes, you may wish to call methods for several of these classes. This is done using **NextMethod()**.\n",
    "\n",
    "The S3 methods now take the form:\n",
    "```\n",
    "an_s3_method.some_class <- function(x, ...){\n",
    "  #Act on some_class, then\n",
    "  NextMethod(\"an_s3_method\")\n",
    "}\n",
    "```\n",
    "That is, **NextMethod()** should be the last line of the method."
   ]
  },
  {
   "cell_type": "code",
   "execution_count": 13,
   "metadata": {
    "collapsed": false
   },
   "outputs": [
    {
     "name": "stderr",
     "output_type": "stream",
     "text": [
      "I'm a cat\n",
      "I'm a mammal\n",
      "I'm a character vector\n"
     ]
    }
   ],
   "source": [
    "# Define a generic function what_am_i( )\n",
    "what_am_i <- function(x, ...){\n",
    "    UseMethod(\"what_am_i\")\n",
    "}\n",
    "\n",
    "# Define a cat method for function what_am_i\n",
    "what_am_i.cat <- function(x, ...){\n",
    "    message(\"I'm a cat\")\n",
    "    NextMethod(\"what_am_i\")\n",
    "}\n",
    "\n",
    "# Define a mammal method for function what_am_i\n",
    "what_am_i.mammal <- function(x, ...){\n",
    "    message(\"I'm a mammal\")\n",
    "    NextMethod(\"what_am_i\")\n",
    "}\n",
    "# Define a character method for what_am_i\n",
    "what_am_i.character <- function(x, ...){\n",
    "    message(\"I'm a character vector\")\n",
    "}\n",
    "\n",
    "what_am_i(kitty)"
   ]
  },
  {
   "cell_type": "markdown",
   "metadata": {},
   "source": [
    "## 3. R6 How-to"
   ]
  },
  {
   "cell_type": "markdown",
   "metadata": {},
   "source": [
    "R6 enables the storage of data and object within one variable. We will use R6 following two steps as below:\n",
    "\n",
    "+ **Step 1**: Use R6Class( ) to create a **class generator** as templates for objects. **Class generator** is also called **factories**.\n",
    "    + Name of the factory should be in **UpperCamelCase**\n",
    "    + Data fields are stored in **private** list\n",
    "+ **Step 2**: Use factory to create new objects, by calling **new()** method from the factory\n"
   ]
  },
  {
   "cell_type": "markdown",
   "metadata": {},
   "source": [
    "### 3.1. Creating a R6 factory (Microwave Oven)"
   ]
  },
  {
   "cell_type": "markdown",
   "metadata": {},
   "source": [
    "**R6Class( )** function is used to create a *factory* for a class:\n",
    "\n",
    "+ The first argument to R6Class() is the name of the class of the objects that are created, written in UpperCamelCase\n",
    "+ Another argument is called **private** and holds the data fields of the object as **a list**, with names for each of its elements\n",
    "```\n",
    "thing_factory <- R6Class(\"Thing\",\n",
    "  private = list(\n",
    "    ..a_field = \"a value\",\n",
    "    ..another_field = 123\n",
    "  )\n",
    ")\n",
    "```"
   ]
  },
  {
   "cell_type": "code",
   "execution_count": 14,
   "metadata": {
    "collapsed": true
   },
   "outputs": [],
   "source": [
    "# Load R6 package for the programming\n",
    "library(R6)"
   ]
  },
  {
   "cell_type": "code",
   "execution_count": 15,
   "metadata": {
    "collapsed": false
   },
   "outputs": [],
   "source": [
    "# Define microwave_oven_factory\n",
    "microwave_oven_factory <- R6Class(\n",
    "  \"MicrowaveOven\",\n",
    "  private = list(\n",
    "  ..power_rating_watts = 800\n",
    "  )\n",
    ")"
   ]
  },
  {
   "cell_type": "markdown",
   "metadata": {},
   "source": [
    "### 3.2. Making Objects (Microwave Ovens)"
   ]
  },
  {
   "cell_type": "markdown",
   "metadata": {},
   "source": [
    "To make an object, you create a factory, then call its *new()* method. Note that you don't need to define this method; *all factories have a new() method by default*.\n",
    "\n",
    "`a_thing <- thing_factory$new()`"
   ]
  },
  {
   "cell_type": "code",
   "execution_count": 16,
   "metadata": {
    "collapsed": true
   },
   "outputs": [],
   "source": [
    "microwave_oven <- microwave_oven_factory$new()"
   ]
  },
  {
   "cell_type": "markdown",
   "metadata": {},
   "source": [
    "### 3.3. Hiding Complexity with Encapsulation (i.e. public list)\n",
    "\n",
    "**Encapsulation**:\n",
    "\n",
    "+ Seperating the implementation of the object from the user interface\n",
    "+ All details of the implementation is hiding inside the *private* element\n",
    "+ All details of the user interface is stored inside the *public* element\n",
    "    + These details are always functions\n",
    "    + Use **private`$`element** to access private elements\n",
    "    + use **self`$`element** to access public elements\n"
   ]
  },
  {
   "cell_type": "markdown",
   "metadata": {},
   "source": [
    "Code for factories with public elements should be:\n",
    "\n",
    "```\n",
    "thing_factory <- R6Class(\n",
    "  \"Thing\",\n",
    "  private = list(\n",
    "    ..a_field = \"a value\",\n",
    "    ..another_field = 123\n",
    "  ),\n",
    "  public = list(\n",
    "    do_something = function(x, y, z) {\n",
    "      # Do something here\n",
    "    }\n",
    "  )\n",
    ")\n",
    "```"
   ]
  },
  {
   "cell_type": "code",
   "execution_count": 17,
   "metadata": {
    "collapsed": false
   },
   "outputs": [
    {
     "name": "stdout",
     "output_type": "stream",
     "text": [
      "[1] \"Your food is cooked!\"\n"
     ]
    }
   ],
   "source": [
    "# Add a cook method to the factory definition\n",
    "microwave_oven_factory <- R6Class(\n",
    "  \"MicrowaveOven\",\n",
    "  private = list(\n",
    "    power_rating_watts = 800\n",
    "  ),\n",
    "  public = list(\n",
    "  cook = function(time_seconds){\n",
    "    Sys.sleep(time_seconds)\n",
    "    print(\"Your food is cooked!\")\n",
    "  }\n",
    "  )\n",
    ")\n",
    "\n",
    "# Create microwave oven object\n",
    "a_microwave_oven <- microwave_oven_factory$new()\n",
    "\n",
    "# Call cook method for 1 second\n",
    "a_microwave_oven$cook(1)"
   ]
  },
  {
   "cell_type": "markdown",
   "metadata": {},
   "source": [
    "To access elements stored in *private* list, use `private$element_name`.\n"
   ]
  },
  {
   "cell_type": "code",
   "execution_count": 18,
   "metadata": {
    "collapsed": true
   },
   "outputs": [],
   "source": [
    "# Add another open_door method to the factory\n",
    "# definition by working on door_is_open element\n",
    "microwave_oven_factory <- R6Class(\n",
    "  \"MicrowaveOven\",\n",
    "  private = list(\n",
    "    ..power_rating_watts = 800,\n",
    "    ..door_is_open = FALSE\n",
    "  ),\n",
    "  public = list(\n",
    "  cook = function(time_seconds){\n",
    "    Sys.sleep(time_seconds)\n",
    "    print(\"Your food is cooked!\")},\n",
    "    open_door = function(){\n",
    "        private$..door_is_open = TRUE},\n",
    "    close_door = function(){\n",
    "        private$..door_is_open = FALSE}\n",
    "  )\n",
    ")"
   ]
  },
  {
   "cell_type": "markdown",
   "metadata": {},
   "source": [
    "One **special public method** for factories is called `initialize()`, which runs automatically whenever a `.new()` method is used for the factory. The pattern for an initialize() function should be:\n",
    "```\n",
    "--snip--\n",
    "public = list(\n",
    "    initialize = function(a_field, another_field) {\n",
    "      if(!missing(a_field)) {\n",
    "        private$..a_field <- a_field\n",
    "      }\n",
    "      if(!missing(another_field)) {\n",
    "        private$..another_field <- another_field\n",
    "      }\n",
    "    }\n",
    "  )\n",
    "```\n"
   ]
  },
  {
   "cell_type": "code",
   "execution_count": 19,
   "metadata": {
    "collapsed": false
   },
   "outputs": [],
   "source": [
    "# Add an initialize method\n",
    "microwave_oven_factory <- R6Class(\n",
    "  \"MicrowaveOven\",\n",
    "  private = list(\n",
    "    ..power_rating_watts = 800,\n",
    "    ..door_is_open = FALSE\n",
    "  ),\n",
    "  public = list(\n",
    "    cook = function(time_seconds) {\n",
    "      Sys.sleep(time_seconds)\n",
    "      print(\"Your food is cooked!\")\n",
    "    },\n",
    "    open_door = function() {\n",
    "      private$..door_is_open = TRUE\n",
    "    },\n",
    "    close_door = function() {\n",
    "      private$..door_is_open = FALSE\n",
    "    },\n",
    "    # Add initialize() method here\n",
    "    initialize = function(power_rating_watts, door_is_open) {\n",
    "      if(!missing(power_rating_watts))\n",
    "      {\n",
    "        private$..power_rating_watts <- power_rating_watts\n",
    "      }\n",
    "      if(!missing(door_is_open))\n",
    "      {\n",
    "        private$..door_is_open <- door_is_open\n",
    "      }\n",
    "    }\n",
    "  )\n",
    ")\n",
    "\n",
    "# Make a microwave\n",
    "a_microwave_oven <- microwave_oven_factory$new(\n",
    "  power_rating_watts = 650,\n",
    "  door_is_open = TRUE\n",
    ")"
   ]
  },
  {
   "cell_type": "markdown",
   "metadata": {},
   "source": [
    "### 3.4. Getting and setting (read and write) with Active Bindings\n",
    "\n",
    "The *active* element list is to allow controlled access to the objects by users on elements in other lists.\n",
    "\n",
    "+ For read-only access, copy the value stored in private list with a condition for missing values:\n",
    "+ For read-write access, give a \"value\" argument in the method and tells the function to give the value (if defined) to the element\n",
    "\n",
    "```\n",
    "--snip--\n",
    "active = list(\n",
    "    a_field = function(){\n",
    "    # read-only access\n",
    "        private$..a_field\n",
    "    },\n",
    "    another_field = function(value){\n",
    "    # read-write access\n",
    "        if(missing(value)){\n",
    "            private$..another_field\n",
    "        } else {\n",
    "        check_condition_function(value)\n",
    "        private$..another_field <- value\n",
    "        }\n",
    "    }\n",
    ")\n",
    "```"
   ]
  },
  {
   "cell_type": "code",
   "execution_count": 20,
   "metadata": {
    "collapsed": false
   },
   "outputs": [
    {
     "name": "stderr",
     "output_type": "stream",
     "text": [
      "\n",
      "Attaching package: ‘assertive’\n",
      "\n",
      "The following objects are masked from ‘package:pryr’:\n",
      "\n",
      "    is_s3_generic, is_s3_method\n",
      "\n"
     ]
    }
   ],
   "source": [
    "library(devtools)\n",
    "library(assertive.numbers)\n",
    "library(assertive)"
   ]
  },
  {
   "cell_type": "code",
   "execution_count": 21,
   "metadata": {
    "collapsed": false
   },
   "outputs": [
    {
     "data": {
      "text/html": [
       "800"
      ],
      "text/latex": [
       "800"
      ],
      "text/markdown": [
       "800"
      ],
      "text/plain": [
       "[1] 800"
      ]
     },
     "metadata": {},
     "output_type": "display_data"
    }
   ],
   "source": [
    "# Add a binding for power rating\n",
    "microwave_oven_factory <- R6Class(\n",
    "  \"MicrowaveOven\",\n",
    "  private = list(\n",
    "    ..power_rating_watts = 800,\n",
    "    ..power_level_watts = 800\n",
    "  ),\n",
    "  # Add active list containing an active binding\n",
    "  active = list(\n",
    "    power_level_watts = function(value) {\n",
    "      if(missing(value)) {\n",
    "        private$..power_level_watts\n",
    "      } else {\n",
    "        assert_is_a_number(value) # function from \"assertive\" package\n",
    "        assert_all_are_in_closed_range(  # function from \"assertive.numbers\" package\n",
    "          value, lower = 0, upper = private$..power_rating_watts\n",
    "        )\n",
    "        private$..power_level_watts <- value\n",
    "      }\n",
    "    }\n",
    "  )\n",
    ")\n",
    "\n",
    "# Make a microwave \n",
    "a_microwave_oven <- microwave_oven_factory$new()\n",
    "\n",
    "# Get the power level\n",
    "a_microwave_oven$power_level_watts\n",
    "\n",
    "# Try to set the power level to \"400\"\n",
    "# a_microwave_oven$power_level_watts <- \"400\"\n",
    "\n",
    "# Try to set the power level to 1600 watts\n",
    "# a_microwave_oven$power_level_watts <- 1600\n",
    "\n",
    "# Set the power level to 400 watts\n",
    "a_microwave_oven$power_level_watts <- 400"
   ]
  },
  {
   "cell_type": "markdown",
   "metadata": {
    "collapsed": true
   },
   "source": [
    "### 3.5. Propagating (Copying) functionality with Inheritance\n",
    "\n",
    "To enable automated connection between different layers of settings for classes, factories should be able to inherit functionality from \"parent class\". Defining a \"child class\" using `inherit` argument to R6Class().\n",
    "\n",
    "```\n",
    "child_class_factory <- R6Class(\n",
    "    \"ChildClass\",\n",
    "    inherit = parent_class_factory,\n",
    "    # Any additional elements for the child class\n",
    ")\n",
    "```"
   ]
  },
  {
   "cell_type": "code",
   "execution_count": 22,
   "metadata": {
    "collapsed": true
   },
   "outputs": [],
   "source": [
    "# First we define a parent class MicrowaveOven\n",
    "microwave_oven_factory <- R6Class(\n",
    "    \"MicrowaveOven\",\n",
    "    private = list(\n",
    "        ..power_rating_watts = 800,\n",
    "        ..power_level_watts = 800,\n",
    "        ..door_is_open = FALSE\n",
    "    ),\n",
    "    public = list(\n",
    "        cook = function(time_seconds){\n",
    "             Sys.sleep(time_seconds)\n",
    "             print(\"Your food is cooked!\")\n",
    "        },\n",
    "        open_door = function(){\n",
    "            private$..door_is_open = TRUE\n",
    "        },\n",
    "        close_door = function(){\n",
    "            private$..door_is_open = FALSE\n",
    "        },\n",
    "        initialize = function(power_rating_watts=800, door_is_open=TRUE){\n",
    "            if(!missing(power_rating_watts)){\n",
    "                private$..power_rating_watts <- power_rating_watts\n",
    "            }\n",
    "            if(!missing(door_is_open)){\n",
    "                private$..door_is_open <- door_is_open\n",
    "            }\n",
    "        }\n",
    "    ),\n",
    "    active = list(\n",
    "        power_rating_watts = function(){\n",
    "            private$..power_rating_watts\n",
    "        },\n",
    "        power_level_watts = function(value){\n",
    "            if(missing(value)){\n",
    "                private$..power_level_watts\n",
    "            } else {\n",
    "                assert_is_a_number(value)\n",
    "                private$..power_level_watts <- value\n",
    "            }\n",
    "        }\n",
    "    )\n",
    ")\n",
    "\n",
    "# Create a child class FancyMicrowaveOven that inherits from MicrowaveOven\n",
    "fancy_microwave_oven_factory <- R6Class(\n",
    "    \"FancyMicrowaveOven\",\n",
    "    inherit = microwave_oven_factory,\n",
    ")"
   ]
  },
  {
   "cell_type": "code",
   "execution_count": 23,
   "metadata": {
    "collapsed": false
   },
   "outputs": [
    {
     "data": {
      "text/plain": [
       "<MicrowaveOven> object generator\n",
       "  Public:\n",
       "    cook: function (time_seconds) \n",
       "    open_door: function () \n",
       "    close_door: function () \n",
       "    initialize: function (power_rating_watts = 800, door_is_open = TRUE) \n",
       "    clone: function (deep = FALSE) \n",
       "  Active bindings:\n",
       "    power_rating_watts: function () \n",
       "    power_level_watts: function (value) \n",
       "  Private:\n",
       "    ..power_rating_watts: 800\n",
       "    ..power_level_watts: 800\n",
       "    ..door_is_open: FALSE\n",
       "  Parent env: <environment: R_GlobalEnv>\n",
       "  Locked objects: TRUE\n",
       "  Locked class: FALSE\n",
       "  Portable: TRUE"
      ]
     },
     "metadata": {},
     "output_type": "display_data"
    },
    {
     "data": {
      "text/plain": [
       "<FancyMicrowaveOven> object generator\n",
       "  Inherits from: <microwave_oven_factory>\n",
       "  Public:\n",
       "    clone: function (deep = FALSE) \n",
       "  Parent env: <environment: R_GlobalEnv>\n",
       "  Locked objects: TRUE\n",
       "  Locked class: FALSE\n",
       "  Portable: TRUE"
      ]
     },
     "metadata": {},
     "output_type": "display_data"
    }
   ],
   "source": [
    "microwave_oven_factory\n",
    "fancy_microwave_oven_factory\n",
    "\n",
    "a_microwave_oven <- microwave_oven_factory$new()\n",
    "a_fancy_microwave <- fancy_microwave_oven_factory$new()"
   ]
  },
  {
   "cell_type": "markdown",
   "metadata": {},
   "source": [
    "Using **`inherits(object_name, class_name)`** will determine if an object inherits a class."
   ]
  },
  {
   "cell_type": "code",
   "execution_count": 24,
   "metadata": {
    "collapsed": false
   },
   "outputs": [
    {
     "data": {
      "text/html": [
       "TRUE"
      ],
      "text/latex": [
       "TRUE"
      ],
      "text/markdown": [
       "TRUE"
      ],
      "text/plain": [
       "[1] TRUE"
      ]
     },
     "metadata": {},
     "output_type": "display_data"
    },
    {
     "data": {
      "text/html": [
       "FALSE"
      ],
      "text/latex": [
       "FALSE"
      ],
      "text/markdown": [
       "FALSE"
      ],
      "text/plain": [
       "[1] FALSE"
      ]
     },
     "metadata": {},
     "output_type": "display_data"
    },
    {
     "data": {
      "text/html": [
       "TRUE"
      ],
      "text/latex": [
       "TRUE"
      ],
      "text/markdown": [
       "TRUE"
      ],
      "text/plain": [
       "[1] TRUE"
      ]
     },
     "metadata": {},
     "output_type": "display_data"
    },
    {
     "data": {
      "text/html": [
       "TRUE"
      ],
      "text/latex": [
       "TRUE"
      ],
      "text/markdown": [
       "TRUE"
      ],
      "text/plain": [
       "[1] TRUE"
      ]
     },
     "metadata": {},
     "output_type": "display_data"
    },
    {
     "data": {
      "text/html": [
       "TRUE"
      ],
      "text/latex": [
       "TRUE"
      ],
      "text/markdown": [
       "TRUE"
      ],
      "text/plain": [
       "[1] TRUE"
      ]
     },
     "metadata": {},
     "output_type": "display_data"
    },
    {
     "data": {
      "text/html": [
       "TRUE"
      ],
      "text/latex": [
       "TRUE"
      ],
      "text/markdown": [
       "TRUE"
      ],
      "text/plain": [
       "[1] TRUE"
      ]
     },
     "metadata": {},
     "output_type": "display_data"
    }
   ],
   "source": [
    "inherits(a_microwave_oven, \"MicrowaveOven\")\n",
    "inherits(a_microwave_oven, \"FancyMicrowaveOven\")\n",
    "inherits(a_fancy_microwave, \"MicrowaveOven\")\n",
    "inherits(a_fancy_microwave, \"FancyMicrowaveOven\")\n",
    "inherits(a_fancy_microwave, \"R6\")\n",
    "inherits(a_microwave_oven, \"R6\")"
   ]
  },
  {
   "cell_type": "markdown",
   "metadata": {},
   "source": [
    "Objects of parent and child class behave the same when using the shared methods on either class."
   ]
  },
  {
   "cell_type": "code",
   "execution_count": 25,
   "metadata": {
    "collapsed": false
   },
   "outputs": [
    {
     "data": {
      "text/html": [
       "TRUE"
      ],
      "text/latex": [
       "TRUE"
      ],
      "text/markdown": [
       "TRUE"
      ],
      "text/plain": [
       "[1] TRUE"
      ]
     },
     "metadata": {},
     "output_type": "display_data"
    },
    {
     "name": "stdout",
     "output_type": "stream",
     "text": [
      "[1] \"Your food is cooked!\"\n",
      "[1] \"Your food is cooked!\"\n"
     ]
    }
   ],
   "source": [
    "# Get power rating for each microwave\n",
    "microwave_power_rating <- a_microwave_oven$power_rating_watts\n",
    "fancy_microwave_power_rating <- a_fancy_microwave$power_rating_watts\n",
    "\n",
    "# Verify that these are the same\n",
    "identical(microwave_power_rating, fancy_microwave_power_rating)\n",
    "\n",
    "# Cook with each microwave\n",
    "a_microwave_oven$cook(1)\n",
    "a_fancy_microwave$cook(1)"
   ]
  },
  {
   "cell_type": "markdown",
   "metadata": {},
   "source": [
    "### 3.6. Embrace, extend, override\n",
    "For *child classes*:\n",
    "\n",
    "**Override**: change the functionality of certain functions\n",
    "\n",
    "\n",
    "**Extend**: add brand-new functionalities to the class with *different function names*\n",
    "\n",
    "Child classes can access **public fields in the parent class** by using **`public$field_name`** syntax"
   ]
  },
  {
   "cell_type": "markdown",
   "metadata": {},
   "source": [
    "#### Sample to Extend Functionality in Child Class:"
   ]
  },
  {
   "cell_type": "code",
   "execution_count": 26,
   "metadata": {
    "collapsed": false
   },
   "outputs": [
    {
     "name": "stdout",
     "output_type": "stream",
     "text": [
      "[1] \"Your food is cooked!\"\n"
     ]
    }
   ],
   "source": [
    "# Redefine the FancyMicrowaveOven factory with extended functionality\n",
    "fancy_microwave_oven_factory <- R6Class(\n",
    "    \"FancyMicrowaveOven\",\n",
    "    inherit = microwave_oven_factory,\n",
    "    # Add more functionalities to public field\n",
    "    public = list(\n",
    "    cook_baked_potato = function(){\n",
    "        self$cook(3)\n",
    "    }\n",
    "    )\n",
    ")\n",
    "\n",
    "# Instantiate a FancyMicrowaveOven object\n",
    "a_fancy_microwave <- fancy_microwave_oven_factory$new()\n",
    "\n",
    "# Call the extended cook_baked_potato() function\n",
    "a_fancy_microwave$cook_baked_potato()"
   ]
  },
  {
   "cell_type": "markdown",
   "metadata": {},
   "source": [
    "#### Sample to Override Functionality in Child Class:"
   ]
  },
  {
   "cell_type": "code",
   "execution_count": 27,
   "metadata": {
    "collapsed": false
   },
   "outputs": [
    {
     "name": "stdout",
     "output_type": "stream",
     "text": [
      "[1] \"Your food is cooked!\"\n"
     ]
    },
    {
     "name": "stderr",
     "output_type": "stream",
     "text": [
      "Enjoy your dinner!\n"
     ]
    }
   ],
   "source": [
    "# Redefine the FancyMicrowaveOven factory by overriding functionality\n",
    "fancy_microwave_oven_factory <- R6Class(\n",
    "    \"FancyMicrowaveOven\",\n",
    "    inherit = microwave_oven_factory,\n",
    "    # Add more functionalities to public field\n",
    "    public = list(\n",
    "        cook_baked_potato = function(){\n",
    "            self$cook(3)\n",
    "        },\n",
    "        cook = function(time_seconds){\n",
    "            super$cook(time_seconds)\n",
    "            # Access function\n",
    "            message(\"Enjoy your dinner!\")\n",
    "        }\n",
    "    )\n",
    ")\n",
    "\n",
    "# Instantiate a FancyMicrowaveOven object\n",
    "a_fancy_microwave <- fancy_microwave_oven_factory$new()\n",
    "\n",
    "# Call the extended cook_baked_potato() function\n",
    "a_fancy_microwave$cook(1)"
   ]
  },
  {
   "cell_type": "markdown",
   "metadata": {},
   "source": [
    "### 3.7. Multiple levels of inheritance\n",
    "\n",
    "In a scenario where more than one level of inheritance happens, each child level can only use `super$` to access the **direct parent** of itself. Multiple `super$` access is not allowed.\n",
    "\n",
    "To work around this limitation, the **intermediate classes** should expose their parents through **active binding**, using name `super_` and should simply return `super`.\n",
    "\n",
    "```\n",
    "--snip--\n",
    "active = list(\n",
    "  super_ = function() super\n",
    ")\n",
    "```"
   ]
  },
  {
   "cell_type": "code",
   "execution_count": 28,
   "metadata": {
    "collapsed": false
   },
   "outputs": [
    {
     "data": {
      "text/plain": [
       "<environment: 0x35572e8>"
      ]
     },
     "metadata": {},
     "output_type": "display_data"
    }
   ],
   "source": [
    "# Adjust the fancy_microwave_oven_factory to expose parent functionality\n",
    "fancy_microwave_oven_factory <- R6Class(\n",
    "    \"FancyMicrowaveOven\",\n",
    "    inherit = microwave_oven_factory,\n",
    "    # Add more functionalities to public field\n",
    "    public = list(\n",
    "        cook_baked_potato = function(){\n",
    "            self$cook(3)\n",
    "        },\n",
    "        cook = function(time_seconds){\n",
    "            super$cook(time_seconds)\n",
    "            # Access function\n",
    "            message(\"Enjoy your dinner!\")\n",
    "        }\n",
    "    ),\n",
    "    active = list(\n",
    "    super_ = function() super\n",
    "    )\n",
    ")\n",
    "\n",
    "# Instantiate a fancy microwave object\n",
    "a_fancy_microwave <- fancy_microwave_oven_factory$new()\n",
    "\n",
    "# Call the fancy microwave's super_ binding\n",
    "a_fancy_microwave$super_\n"
   ]
  },
  {
   "cell_type": "markdown",
   "metadata": {},
   "source": [
    "Once intermediate classes have exposed their parent functionality with *super_* active bindings, you can access methods across several generations of R6 class. The syntax is:\n",
    "\n",
    "```\n",
    "parent_method <- super$method()\n",
    "grand_parent_method <- super$super_$method()\n",
    "great_grand_parent_method <- super$super_$super_$method()\n",
    "```"
   ]
  },
  {
   "cell_type": "markdown",
   "metadata": {
    "collapsed": true
   },
   "source": [
    "### 3.8. Use environments (env) to share variables\n",
    "\n",
    "The *environment* variable type is similar to a *list* in that it can contain other variables.\n",
    "\n",
    "You can create a new environment using `new.env()`. **However, one needs to create an empty *env* before adding variables into it**.\n",
    "\n",
    "Variables can be added to the environment using the same syntax as for lists, that is, you can use the `$` and `[[` operators.\n",
    "\n",
    "One can check the contents of an `env` object by using `ls.str()` function."
   ]
  },
  {
   "cell_type": "code",
   "execution_count": 29,
   "metadata": {
    "collapsed": false
   },
   "outputs": [
    {
     "data": {
      "text/plain": [
       "bases :  chr [1:4] \"A\" \"C\" \"G\" \"T\"\n",
       "perfect :  num [1:3] 6 28 496"
      ]
     },
     "metadata": {},
     "output_type": "display_data"
    }
   ],
   "source": [
    "# Define a new environment\n",
    "env <- new.env()\n",
    "  \n",
    "# Add an element named perfect\n",
    "env$perfect <- c(6, 28, 496)\n",
    "\n",
    "# Add an element named bases\n",
    "env[['bases']] <- c('A','C','G','T')\n",
    "\n",
    "# Show the contents of env\n",
    "ls.str(env)"
   ]
  },
  {
   "cell_type": "markdown",
   "metadata": {},
   "source": [
    "**Change by value vs. Change by reference**:\n",
    "\n",
    "Most types of R variable use \"copy by value\", meaning that when you take a copy of them, the new variable has its own copy of the values. In this case, *changing one variable does not affect the other*.\n",
    "\n",
    "Environments use a different system, known as \"copy by reference\", so that *all copies are identical; changing one copy changes all the copies*."
   ]
  },
  {
   "cell_type": "code",
   "execution_count": 30,
   "metadata": {
    "collapsed": false
   },
   "outputs": [
    {
     "data": {
      "text/html": [
       "FALSE"
      ],
      "text/latex": [
       "FALSE"
      ],
      "text/markdown": [
       "FALSE"
      ],
      "text/plain": [
       "[1] FALSE"
      ]
     },
     "metadata": {},
     "output_type": "display_data"
    },
    {
     "data": {
      "text/html": [
       "TRUE"
      ],
      "text/latex": [
       "TRUE"
      ],
      "text/markdown": [
       "TRUE"
      ],
      "text/plain": [
       "[1] TRUE"
      ]
     },
     "metadata": {},
     "output_type": "display_data"
    }
   ],
   "source": [
    "# Assign lst and env\n",
    "lst <- list(\n",
    "  perfect = c(6, 28, 496),\n",
    "  bases = c(\"A\", \"C\", \"G\", \"T\")\n",
    ")\n",
    "env <- list2env(lst)\n",
    "\n",
    "# Copy lst\n",
    "lst2 <- lst\n",
    "  \n",
    "# Change lst's bases element\n",
    "lst$bases <- c('A','C','G','U')\n",
    "  \n",
    "# Test lst and lst2 identical\n",
    "identical(lst$bases, lst2$bases)\n",
    "  \n",
    "# Copy env\n",
    "env2 <- env\n",
    "  \n",
    "# Change env's bases element\n",
    "env2$bases <- c('A','C','G','U')\n",
    "  \n",
    "# Test env and env2 identical\n",
    "identical(env$bases, env2$bases)"
   ]
  },
  {
   "cell_type": "markdown",
   "metadata": {},
   "source": [
    "R6 classes can use environments' copy by reference behavior to **share fields between objects**. To set this up, define a private field named shared. This field takes several lines to define. It should:\n",
    "\n",
    "+ Create a new environment.\n",
    "+ Assign any shared fields to that environment.\n",
    "+ Return the environment.\n",
    "\n",
    "The shared fields should be accessed via **active bindings**. These work in the same way as other active bindings that you have seen, but retrieve the fields using a `private$shared$` prefix.\n",
    "\n",
    "```\n",
    "R6Class(\n",
    "  \"Thing\",\n",
    "  private = list(\n",
    "    shared = {\n",
    "      e <- new.env()\n",
    "      e$a_shared_field <- 123\n",
    "      e\n",
    "    }\n",
    "  ),\n",
    "  active = list(\n",
    "    a_shared_field = function(value) {\n",
    "      if(missing(value)) {\n",
    "        private$shared$a_shared_field\n",
    "      } else {\n",
    "        private$shared$a_shared_field <- value\n",
    "      }\n",
    "    }\n",
    "  )\n",
    ")\n",
    "```"
   ]
  },
  {
   "cell_type": "code",
   "execution_count": 42,
   "metadata": {
    "collapsed": false
   },
   "outputs": [
    {
     "data": {
      "text/html": [
       "'Warning. If the food is too hot you may scald yourself.'"
      ],
      "text/latex": [
       "'Warning. If the food is too hot you may scald yourself.'"
      ],
      "text/markdown": [
       "'Warning. If the food is too hot you may scald yourself.'"
      ],
      "text/plain": [
       "[1] \"Warning. If the food is too hot you may scald yourself.\""
      ]
     },
     "metadata": {},
     "output_type": "display_data"
    }
   ],
   "source": [
    "# Update MicrowaveOven class to include env elements\n",
    "microwave_oven_factory <- R6Class(\n",
    "    \"MicrowaveOven\",\n",
    "    private = list(\n",
    "        ..power_rating_watts = 800,\n",
    "        ..power_level_watts = 800,\n",
    "        ..door_is_open = FALSE,\n",
    "        shared = {\n",
    "            e <- new.env()\n",
    "            e$safety_warning <- \"Warning. Do not try to cook metal objects.\"\n",
    "            e\n",
    "        }\n",
    "    ),\n",
    "    public = list(\n",
    "        cook = function(time_seconds){\n",
    "             Sys.sleep(time_seconds)\n",
    "             print(\"Your food is cooked!\")\n",
    "        },\n",
    "        open_door = function(){\n",
    "            private$..door_is_open = TRUE\n",
    "        },\n",
    "        close_door = function(){\n",
    "            private$..door_is_open = FALSE\n",
    "        },\n",
    "        initialize = function(power_rating_watts=800, door_is_open=TRUE){\n",
    "            if(!missing(power_rating_watts)){\n",
    "                private$..power_rating_watts <- power_rating_watts\n",
    "            }\n",
    "            if(!missing(door_is_open)){\n",
    "                private$..door_is_open <- door_is_open\n",
    "            }\n",
    "        }\n",
    "    ),\n",
    "    active = list(\n",
    "        power_rating_watts = function(){\n",
    "            private$..power_rating_watts\n",
    "        },\n",
    "        power_level_watts = function(value){\n",
    "            if(missing(value)){\n",
    "                private$..power_level_watts\n",
    "            } else {\n",
    "                assert_is_a_number(value)\n",
    "                private$..power_level_watts <- value\n",
    "            }\n",
    "        },\n",
    "        safety_warning = function(value){\n",
    "            if(missing(value)){\n",
    "                private$shared$safety_warning\n",
    "            } else {\n",
    "                private$shared$safety_warning <- value\n",
    "            }\n",
    "        }\n",
    "    )\n",
    ")\n",
    "\n",
    "# Instantiate two different MicrowaveOven\n",
    "a_microwave_oven <- microwave_oven_factory$new()\n",
    "another_microwave_oven <- microwave_oven_factory$new()\n",
    "\n",
    "# Change the env element in one\n",
    "a_microwave_oven$safety_warning <- \"Warning. If the food is too hot you may scald yourself.\"\n",
    "\n",
    "# Check the env element in the other object\n",
    "another_microwave_oven$safety_warning"
   ]
  },
  {
   "cell_type": "markdown",
   "metadata": {},
   "source": [
    "### 3.9. Copy or clone R6Objects\n",
    "\n",
    "R6Ojects follow the same rule for **copy by reference**. When assigned using `a_reference_copy <- an_r6_object`, the `a_reference_copy` will remain exactly the same with the `an_r6_object`.\n",
    "\n",
    "Instead, to **copy by value**, use `a_value <- an_r6_object$clone()` to copy the values of an object."
   ]
  },
  {
   "cell_type": "code",
   "execution_count": 44,
   "metadata": {
    "collapsed": false
   },
   "outputs": [
    {
     "data": {
      "text/html": [
       "TRUE"
      ],
      "text/latex": [
       "TRUE"
      ],
      "text/markdown": [
       "TRUE"
      ],
      "text/plain": [
       "[1] TRUE"
      ]
     },
     "metadata": {},
     "output_type": "display_data"
    },
    {
     "data": {
      "text/html": [
       "TRUE"
      ],
      "text/latex": [
       "TRUE"
      ],
      "text/markdown": [
       "TRUE"
      ],
      "text/plain": [
       "[1] TRUE"
      ]
     },
     "metadata": {},
     "output_type": "display_data"
    }
   ],
   "source": [
    "# Create a microwave oven\n",
    "a_microwave_oven <- microwave_oven_factory$new()\n",
    "\n",
    "# Copy a_microwave_oven using <-\n",
    "assigned_microwave_oven <- a_microwave_oven\n",
    "  \n",
    "# Copy a_microwave_oven using clone()\n",
    "cloned_microwave_oven <- a_microwave_oven$clone()\n",
    "  \n",
    "# Change a_microwave_oven's power level  \n",
    "a_microwave_oven$power_level_watts <- 400\n",
    "  \n",
    "# Check a_microwave_oven & assigned_microwave_oven same \n",
    "identical(a_microwave_oven$power_level_watts,\n",
    "         assigned_microwave_oven$power_level_watts)\n",
    "\n",
    "# Check a_microwave_oven & cloned_microwave_oven different \n",
    "!identical(a_microwave_oven$power_level_watts,\n",
    "           cloned_microwave_oven$power_level_watts)  "
   ]
  },
  {
   "cell_type": "markdown",
   "metadata": {},
   "source": [
    "A **container** object is a class that also contains anther class. This is realized by using `thing_factory$new()` to create another object as a variable in the container.\n",
    "\n",
    "When cloning (coping by object) an container object, `container_object$clone()` will only **copy by value** on the container, but keep the \"thing\" as a **shared object**. To copy by value both the container and the included objects, use `a_deep_copy <- an_r6_object$clone(deep = TRUE)`"
   ]
  },
  {
   "cell_type": "code",
   "execution_count": 62,
   "metadata": {
    "collapsed": false
   },
   "outputs": [],
   "source": [
    "# Create a power_plug_factory for PowerPlug class\n",
    "power_plug_factory <- R6Class(\n",
    "    \"PowerPlug\",\n",
    "    private = list(\n",
    "        ..type = \"American\",\n",
    "        ..plug_in_status = FALSE\n",
    "    ),\n",
    "    public = list(\n",
    "        plug_in = function(){\n",
    "            private$..plug_in_status = TRUE\n",
    "        },\n",
    "        unplug = function(){\n",
    "            private$..plug_in_status = FALSE\n",
    "        },\n",
    "        add_adapter = function(type){\n",
    "            private$..type = type\n",
    "        },\n",
    "        initialize = function(plug_in_status=FALSE, type=\"American\"){\n",
    "            if(!missing(plug_in_status)){\n",
    "                private$..plug_in_status <- plug_in_status\n",
    "            }\n",
    "            if(!missing(type)){\n",
    "                private$..type <- type\n",
    "            }\n",
    "        }\n",
    "    ),\n",
    "    active = list(\n",
    "        plug_in_status = function(){\n",
    "            private$..plug_in_status\n",
    "        },\n",
    "        type = function(value){\n",
    "            if(missing(value)){\n",
    "                private$..type\n",
    "            } else {\n",
    "                private$..type <- value\n",
    "            }\n",
    "            \n",
    "        }\n",
    "    )\n",
    ")\n",
    "\n",
    "# Update the MicrowaveOven to include PowerPlug object\n",
    "microwave_oven_factory <- R6Class(\n",
    "    \"MicrowaveOven\",\n",
    "    private = list(\n",
    "        ..power_rating_watts = 800,\n",
    "        ..power_level_watts = 800,\n",
    "        ..door_is_open = FALSE,\n",
    "        ..power_plug = power_plug_factory$new(),\n",
    "        shared = {\n",
    "            e <- new.env()\n",
    "            e$safety_warning <- \"Warning. Do not try to cook metal objects.\"\n",
    "            e\n",
    "        }\n",
    "    ),\n",
    "    public = list(\n",
    "        cook = function(time_seconds){\n",
    "             Sys.sleep(time_seconds)\n",
    "             print(\"Your food is cooked!\")\n",
    "        },\n",
    "        open_door = function(){\n",
    "            private$..door_is_open = TRUE\n",
    "        },\n",
    "        close_door = function(){\n",
    "            private$..door_is_open = FALSE\n",
    "        },\n",
    "        initialize = function(power_rating_watts=800, door_is_open=TRUE){\n",
    "            if(!missing(power_rating_watts)){\n",
    "                private$..power_rating_watts <- power_rating_watts\n",
    "            }\n",
    "            if(!missing(door_is_open)){\n",
    "                private$..door_is_open <- door_is_open\n",
    "            }\n",
    "        }\n",
    "    ),\n",
    "    active = list(\n",
    "        power_rating_watts = function(){\n",
    "            private$..power_rating_watts\n",
    "        },\n",
    "        power_level_watts = function(value){\n",
    "            if(missing(value)){\n",
    "                private$..power_level_watts\n",
    "            } else {\n",
    "                assert_is_a_number(value)\n",
    "                private$..power_level_watts <- value\n",
    "            }\n",
    "        },\n",
    "        safety_warning = function(value){\n",
    "            if(missing(value)){\n",
    "                private$shared$safety_warning\n",
    "            } else {\n",
    "                private$shared$safety_warning <- value\n",
    "            }\n",
    "        },\n",
    "        power_plug_status = function(){\n",
    "            private$..power_plug$plug_in_status\n",
    "        },\n",
    "        power_plug_type = function(value){\n",
    "            if(missing(value)){\n",
    "                private$..power_plug$type\n",
    "                } else {\n",
    "                assert_is_a_string(value)\n",
    "                private$..power_plug$type <- value\n",
    "            }\n",
    "        },\n",
    "        power_plug = function(){\n",
    "            private$..power_plug\n",
    "        }\n",
    "    )\n",
    ")"
   ]
  },
  {
   "cell_type": "code",
   "execution_count": 65,
   "metadata": {
    "collapsed": false
   },
   "outputs": [
    {
     "data": {
      "text/html": [
       "'British'"
      ],
      "text/latex": [
       "'British'"
      ],
      "text/markdown": [
       "'British'"
      ],
      "text/plain": [
       "[1] \"British\""
      ]
     },
     "metadata": {},
     "output_type": "display_data"
    },
    {
     "data": {
      "text/plain": [
       "<PowerPlug>\n",
       "  Public:\n",
       "    add_adapter: function (type) \n",
       "    clone: function (deep = FALSE) \n",
       "    initialize: function (plug_in_status = FALSE, type = \"American\") \n",
       "    plug_in: function () \n",
       "    plug_in_status: active binding\n",
       "    type: active binding\n",
       "    unplug: function () \n",
       "  Private:\n",
       "    ..plug_in_status: FALSE\n",
       "    ..type: British"
      ]
     },
     "metadata": {},
     "output_type": "display_data"
    },
    {
     "data": {
      "text/html": [
       "TRUE"
      ],
      "text/latex": [
       "TRUE"
      ],
      "text/markdown": [
       "TRUE"
      ],
      "text/plain": [
       "[1] TRUE"
      ]
     },
     "metadata": {},
     "output_type": "display_data"
    },
    {
     "data": {
      "text/html": [
       "FALSE"
      ],
      "text/latex": [
       "FALSE"
      ],
      "text/markdown": [
       "FALSE"
      ],
      "text/plain": [
       "[1] FALSE"
      ]
     },
     "metadata": {},
     "output_type": "display_data"
    }
   ],
   "source": [
    "# Create a microwave oven\n",
    "a_microwave_oven <- microwave_oven_factory$new()\n",
    "\n",
    "# Look at its power plug\n",
    "a_microwave_oven$power_plug_type\n",
    "a_microwave_oven$power_plug\n",
    "# Copy a_microwave_oven using clone(), no args\n",
    "cloned_microwave_oven <- a_microwave_oven$clone()\n",
    "  \n",
    "# Copy a_microwave_oven using clone(), deep = TRUE\n",
    "deep_cloned_microwave_oven <- a_microwave_oven$clone(deep=TRUE)\n",
    "\n",
    "# Change a_microwave_oven's power plug type  \n",
    "a_microwave_oven$power_plug_type <- \"British\"\n",
    "\n",
    "  \n",
    "# Check a_microwave_oven & cloned_microwave_oven same \n",
    "identical(a_microwave_oven$power_plug$type, cloned_microwave_oven$power_plug$type)\n",
    "\n",
    "# Check a_microwave_oven & deep_cloned_microwave_oven different \n",
    "!identical(a_microwave_oven$power_plug$type, \n",
    "deep_cloned_microwave_oven$power_plug$type)  "
   ]
  },
  {
   "cell_type": "markdown",
   "metadata": {},
   "source": [
    "### 3.10. Finalize (Clean up) R6 Objects\n",
    "\n",
    "Just as an R6 class can define a public **`initialize()`** method to run custom code when objects are created, they can also define a public **`finalize()`** method to run custom code when objects are destroyed.\n",
    "\n",
    "`finalize()` should take no arguments. It is typically used to close connections to databases or files, or undo side-effects such as changing global `options()` or graphics `par()`ameters.\n",
    "\n",
    "The template for the code should be as follows.\n",
    "\n",
    "```\n",
    "thing_factory <- R6Class(\n",
    "  \"Thing\",\n",
    "  public = list(\n",
    "    initialize = function(x, y, z) {\n",
    "      # do something\n",
    "    },\n",
    "    finalize = function() {\n",
    "      # undo something\n",
    "    }\n",
    "  )\n",
    ")\n",
    "```\n",
    "\n",
    "The finalize() method is called when the object is removed from memory by R's **automated garbage collector**. You can force a garbage collection by typing **`gc()`**.\n"
   ]
  }
 ],
 "metadata": {
  "kernelspec": {
   "display_name": "R",
   "language": "R",
   "name": "ir"
  },
  "language_info": {
   "codemirror_mode": "r",
   "file_extension": ".r",
   "mimetype": "text/x-r-source",
   "name": "R",
   "pygments_lexer": "r",
   "version": "3.3.2"
  }
 },
 "nbformat": 4,
 "nbformat_minor": 2
}
