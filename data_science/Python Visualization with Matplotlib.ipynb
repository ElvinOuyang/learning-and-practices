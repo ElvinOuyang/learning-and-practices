{
 "cells": [
  {
   "cell_type": "markdown",
   "metadata": {},
   "source": [
    "# Key Tips from DataCamp Python Data Visualization Course"
   ]
  },
  {
   "cell_type": "markdown",
   "metadata": {},
   "source": [
    "## `plt` tips:\n",
    "\n",
    "* Use `plt.axis([xlim_min, xlim_max, ylim_min, ylim_max])` to define range of x-axis and y-axis\n",
    "* Use `plt.legend(loc='location-string')` to display legend. Use `\"best\"` to have the program self-determine best possible location for the legend\n",
    "* Use `plt.annotate()` to display an annotation (with arrows):\n",
    "    * Use parameter `xy=(xloc, yloc)` to identify the **point to be annotated**\n",
    "    * Use parameter `xytext=(xloc, yloc)` to identify the **location of the annotation text**\n",
    "    * Use parameter `arrowprops=dict(facecolor='color', ...)` to define specs of **the arrow that points from annotation text to the annotated point**\n",
    "* Use `plt.style.use()` to quickly change to a pre-defined styles. Use `plt.style.available` to identify the available style strings.\n",
    "* Use `plt.tight_layout()` to tighten the space between subplots\n",
    "* Use `plt.colorbar()` to display the value-color matching gradient\n"
   ]
  },
  {
   "cell_type": "markdown",
   "metadata": {},
   "source": [
    "## Use `plt` and `sns` to visualize data distributions\n",
    "\n",
    "* Use `plt.hist2d(x, y)` to display the distribution of variables in a 2d histogram\n",
    "    * Use `bins=(nx, ny)` to specify number of \"bins\" for x and y\n",
    "    * Use `range=((xmin, xmax), (ymin, ymax))` to specify ranges of x and y\n",
    "* Alternatively, use `plt.hexbin(x, y)` to display the histogram in hexagonal bins\n",
    "    * Use `gridsize` (default 100) to define number of hexagonal tiling on x\n",
    "    * Use `extent=(xmin, xmax, ymin, ymax)` to define the range\n"
   ]
  },
  {
   "cell_type": "markdown",
   "metadata": {},
   "source": [
    "## Use `plt.imshow()` and `plt.imread()` to work with image data\n",
    "\n",
    "* "
   ]
  }
 ],
 "metadata": {
  "kernelspec": {
   "display_name": "Python 3",
   "language": "python",
   "name": "python3"
  },
  "language_info": {
   "codemirror_mode": {
    "name": "ipython",
    "version": 3
   },
   "file_extension": ".py",
   "mimetype": "text/x-python",
   "name": "python",
   "nbconvert_exporter": "python",
   "pygments_lexer": "ipython3",
   "version": "3.7.3"
  }
 },
 "nbformat": 4,
 "nbformat_minor": 2
}
