{
 "cells": [
  {
   "cell_type": "markdown",
   "metadata": {},
   "source": [
    "# Web Scarping with `scrapy` in Python"
   ]
  },
  {
   "cell_type": "markdown",
   "metadata": {},
   "source": [
    "# 1. HTML and XPath Fundamentals"
   ]
  },
  {
   "cell_type": "markdown",
   "metadata": {},
   "source": [
    "## HTML - HyperTest Markup Language\n",
    "\n",
    "### Structure of a HMTL:\n",
    "\n",
    "* HTML Tags:\n",
    "    * `<html> ... </html>`: root tag\n",
    "    * `<body> ... </body>`: body tag\n",
    "    * `<div> ... </div>`: section tag\n",
    "    * `<p> ... </p>`: paragraph tag\n",
    "    * `<a> ... </a>`: hyperlink tag\n",
    "* HTML tree: structure of HTML\n",
    "    * **child**, **parent**, **sibling**, **generation**, **decendant**"
   ]
  },
  {
   "cell_type": "markdown",
   "metadata": {},
   "source": [
    "## HTML Specific Syntax\n",
    "\n",
    "Typical structure of a HTML element:\n",
    "\n",
    "```html\n",
    "<tag-name attrib-name=\"attrib info\">\n",
    "    ..element contents.\n",
    "</tag-name>\n",
    "```\n",
    "\n",
    "### For example:\n",
    "\n",
    "```html\n",
    "<div id=\"unique-id\" class=\"some class\">\n",
    "    ..div element contents..\n",
    "</div>\n",
    "```\n",
    "* `id` is used to be unique for the specific element.\n",
    "* `class` is also used to identify the element; a tag can belong to multiple attributes. In this example, the classes are `\"some\"` and `\"class\"`\n",
    "\n",
    "### Another example:\n",
    "\n",
    "```html\n",
    "<a href=\"https://somewebsite.com\">\n",
    "    This text links to the website\n",
    "</a>\n",
    "```\n",
    "* For an `a` tag, attribute `href` is the hyperlink directed to\n",
    "\n",
    "\n"
   ]
  },
  {
   "cell_type": "markdown",
   "metadata": {},
   "source": [
    "## Intro to XPath Notation\n",
    "\n",
    "The **XPath** notation identifies the location of any elements in an html object. Think of this **XPath** notation as *paths for html elements*\n",
    "\n",
    "1.A single forward-slash `/` to more forward one generation\n",
    "\n",
    "2.Tag-names between slashes to give direction to which element(s)\n",
    "\n",
    "3.Use `//` to look in **all forward generations** instead of single forward for the specific tag-name\n",
    "\n",
    "4.`[]` to identify which of the selected siblings to choose (starting from 1)\n",
    "\n",
    "5.Use `@` sign to establish a condition based on attribute. Use `[]` to wrap the condition as a selection. For instance `//div[@id=\"uid\"]` will look for **all** `div` element that has an `id` attribute equal to `\"uid\"`.\n",
    "\n",
    "6.Use `*` as the wildcard to select all elements in a forward generation.\n"
   ]
  },
  {
   "cell_type": "markdown",
   "metadata": {},
   "source": [
    "# 2. XPath and Selectors"
   ]
  },
  {
   "cell_type": "markdown",
   "metadata": {},
   "source": [
    "## XPathology\n",
    "\n",
    "**1. Be cautious around `[number]` cases**\n",
    "\n",
    "When `//` searches across all elements for a tag-name, adding `[n]` to the path will **identify the *n*th element of each selected group of siblings**. Therefore, if `<p> ... </p>` is present in 2 different generation levels, then `\"//p[1]\"` selects the 1st `p` element in each level.\n",
    "\n",
    "**2. Using `*` with slashes**\n",
    "\n",
    "When using `/*`, XPath points to **direct child elements**. When using `//*`, XPath points to **all decendant elements**."
   ]
  }
 ],
 "metadata": {
  "kernelspec": {
   "display_name": "Python 3",
   "language": "python",
   "name": "python3"
  },
  "language_info": {
   "codemirror_mode": {
    "name": "ipython",
    "version": 3
   },
   "file_extension": ".py",
   "mimetype": "text/x-python",
   "name": "python",
   "nbconvert_exporter": "python",
   "pygments_lexer": "ipython3",
   "version": "3.7.1"
  }
 },
 "nbformat": 4,
 "nbformat_minor": 2
}
